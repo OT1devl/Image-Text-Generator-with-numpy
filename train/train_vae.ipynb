{
 "cells": [
  {
   "cell_type": "code",
   "execution_count": 1,
   "id": "15e03abd",
   "metadata": {},
   "outputs": [],
   "source": [
    "import numpy as np\n",
    "import pandas as pd\n",
    "import matplotlib.pyplot as plt\n",
    "import sys\n",
    "import os\n",
    "\n",
    "sys.path.append(os.path.abspath('..'))\n",
    "from functions import *\n",
    "from models import *\n",
    "from optimizers import *\n",
    "from utils import *\n",
    "from settings import *"
   ]
  },
  {
   "cell_type": "code",
   "execution_count": null,
   "id": "ea951094",
   "metadata": {},
   "outputs": [],
   "source": [
    "path_letters_train = r'\\Image-Text-Generator-with-numpy\\datasets\\EMNIST\\emnist-letters-train.csv'\n",
    "path_letters_test = r'\\Image-Text-Generator-with-numpy\\datasets\\EMNIST\\emnist-letters-test.csv'\n",
    "\n",
    "path_digits_train = r'\\Image-Text-Generator-with-numpy\\datasets\\EMNIST\\emnist-digits-train.csv'\n",
    "path_digits_test = r'\\Image-Text-Generator-with-numpy\\datasets\\EMNIST\\emnist-digits-test.csv'"
   ]
  },
  {
   "cell_type": "code",
   "execution_count": 3,
   "id": "71ff441d",
   "metadata": {},
   "outputs": [],
   "source": [
    "letters_train = np.array(pd.read_csv(path_letters_train).values)\n",
    "letters_test = np.array(pd.read_csv(path_letters_test).values)\n",
    "\n",
    "digits_train = np.array(pd.read_csv(path_digits_train).values)\n",
    "digits_test = np.array(pd.read_csv(path_digits_test).values)"
   ]
  },
  {
   "cell_type": "code",
   "execution_count": 4,
   "id": "ded2a794",
   "metadata": {},
   "outputs": [],
   "source": [
    "letters = np.concatenate([\n",
    "    letters_train[:, 1:],\n",
    "    letters_test[:, 1:]\n",
    "], axis=0).reshape(-1, 28, 28).transpose(0, 2, 1).reshape(-1, 28*28).astype(DTYPE) / 255.0\n",
    "\n",
    "digits = np.concatenate([\n",
    "    digits_train[:, 1:],\n",
    "    digits_test[:, 1:]\n",
    "], axis=0).reshape(-1, 28, 28).transpose(0, 2, 1).reshape(-1, 28*28).astype(DTYPE) / 255.0"
   ]
  },
  {
   "cell_type": "code",
   "execution_count": 5,
   "id": "e101ebdc",
   "metadata": {},
   "outputs": [],
   "source": [
    "total_data = np.concatenate([letters, digits], axis=0)"
   ]
  },
  {
   "cell_type": "code",
   "execution_count": 6,
   "id": "8c2ea1f3",
   "metadata": {},
   "outputs": [],
   "source": [
    "total_data = shuffle_data(total_data)"
   ]
  },
  {
   "cell_type": "code",
   "execution_count": 7,
   "id": "0f7035c9",
   "metadata": {},
   "outputs": [
    {
     "name": "stdout",
     "output_type": "stream",
     "text": [
      "(383596, 784)\n"
     ]
    }
   ],
   "source": [
    "print(total_data.shape)"
   ]
  },
  {
   "cell_type": "code",
   "execution_count": 8,
   "id": "9fe4c5ce",
   "metadata": {},
   "outputs": [],
   "source": [
    "vae = VAE(\n",
    "    n_inputs=total_data.shape[1],\n",
    "    z_dim=128,\n",
    "    neurons=64,\n",
    "    n_outputs=total_data.shape[1],\n",
    "    first_activation=LeakyReLU,\n",
    "    second_activation=ReLU,\n",
    "    last_activation=sigmoid,\n",
    "    dtype=DTYPE,\n",
    "    name=\"VAE chars\"\n",
    ")\n",
    "\n",
    "vae.compile(\n",
    "    optimizer=Adam(lr=0.001)\n",
    ")"
   ]
  },
  {
   "cell_type": "code",
   "execution_count": 9,
   "id": "a8903697",
   "metadata": {},
   "outputs": [
    {
     "name": "stdout",
     "output_type": "stream",
     "text": [
      "Epoch: [1/10] Avg Loss: 0.2902 | Avg KL Loss: 0.0939\n",
      "Epoch: [2/10] Avg Loss: 0.2962 | Avg KL Loss: 0.1305\n",
      "Epoch: [3/10] Avg Loss: 0.2991 | Avg KL Loss: 0.1367\n",
      "Epoch: [4/10] Avg Loss: 0.3003 | Avg KL Loss: 0.1396\n",
      "Epoch: [5/10] Avg Loss: 0.3009 | Avg KL Loss: 0.1411\n",
      "Epoch: [6/10] Avg Loss: 0.3010 | Avg KL Loss: 0.1418\n",
      "Epoch: [7/10] Avg Loss: 0.3011 | Avg KL Loss: 0.1423\n",
      "Epoch: [8/10] Avg Loss: 0.3010 | Avg KL Loss: 0.1427\n",
      "Epoch: [9/10] Avg Loss: 0.3010 | Avg KL Loss: 0.1432\n",
      "Epoch: [10/10] Avg Loss: 0.3012 | Avg KL Loss: 0.1438\n"
     ]
    }
   ],
   "source": [
    "vae.train(total_data, epochs=10, batch_size=32, shuffle=True)"
   ]
  },
  {
   "cell_type": "code",
   "execution_count": 37,
   "id": "a5c84b1b",
   "metadata": {},
   "outputs": [],
   "source": [
    "choose_digit = False\n",
    "rand_image = digits[np.random.randint(0, digits.shape[0])] if choose_digit else letters[np.random.randint(0, letters.shape[0])]"
   ]
  },
  {
   "cell_type": "code",
   "execution_count": 49,
   "id": "1e102ed5",
   "metadata": {},
   "outputs": [
    {
     "data": {
      "image/png": "[encoded data removed]",
      "text/plain": [
       "<Figure size 1200x400 with 2 Axes>"
      ]
     },
     "metadata": {},
     "output_type": "display_data"
    }
   ],
   "source": [
    "reconstruction= vae.forward(rand_image)[0]\n",
    "\n",
    "fig, axes = plt.subplots(1, 2, figsize=(12, 4))\n",
    "axes[0].imshow(rand_image.reshape(28, 28), cmap='gray')\n",
    "axes[0].set_title(\"Original\")\n",
    "axes[0].axis('off')\n",
    "\n",
    "axes[1].imshow(reconstruction.reshape(28, 28), cmap='gray')\n",
    "axes[1].set_title(\"Generated\")\n",
    "axes[1].axis('off')\n",
    "\n",
    "plt.tight_layout()\n",
    "plt.show()"
   ]
  },
  {
   "cell_type": "code",
   "execution_count": null,
   "id": "aab36fd0",
   "metadata": {},
   "outputs": [],
   "source": [
    "vae.save(path=r'\\Image-Text-Generator-with-numpy\\models\\char_VAE.ot')"
   ]
  }
 ],
 "metadata": {
  "kernelspec": {
   "display_name": "Python 3",
   "language": "python",
   "name": "python3"
  },
  "language_info": {
   "codemirror_mode": {
    "name": "ipython",
    "version": 3
   },
   "file_extension": ".py",
   "mimetype": "text/x-python",
   "name": "python",
   "nbconvert_exporter": "python",
   "pygments_lexer": "ipython3",
   "version": "3.9.10"
  }
 },
 "nbformat": 4,
 "nbformat_minor": 5
}
